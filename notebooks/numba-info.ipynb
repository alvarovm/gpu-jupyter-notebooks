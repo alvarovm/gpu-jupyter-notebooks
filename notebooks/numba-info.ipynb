{
 "cells": [
  {
   "cell_type": "markdown",
   "metadata": {},
   "source": [
    "CUDA example"
   ]
  },
  {
   "cell_type": "code",
   "execution_count": 3,
   "metadata": {},
   "outputs": [
    {
     "name": "stdout",
     "output_type": "stream",
     "text": [
      "<CUDA device 0 'b'Tesla V100-SXM2-16GB''>\n",
      "{}\n"
     ]
    }
   ],
   "source": [
    "from numba import cuda\n",
    "ddd=cuda.get_current_device()\n",
    "print(ddd)\n",
    "print(ddd.attributes)"
   ]
  },
  {
   "cell_type": "code",
   "execution_count": 4,
   "metadata": {},
   "outputs": [
    {
     "name": "stdout",
     "output_type": "stream",
     "text": [
      "<Managed Device 0>, free: 16613048320 bytes, total, 16945512448 bytes\n",
      "<Managed Device 1>, free: 16613048320 bytes, total, 16945512448 bytes\n",
      "<Managed Device 2>, free: 16613048320 bytes, total, 16945512448 bytes\n",
      "<Managed Device 3>, free: 16613048320 bytes, total, 16945512448 bytes\n",
      "<Managed Device 4>, free: 16613048320 bytes, total, 16945512448 bytes\n",
      "<Managed Device 5>, free: 16613048320 bytes, total, 16945512448 bytes\n",
      "<Managed Device 6>, free: 16613048320 bytes, total, 16945512448 bytes\n",
      "<Managed Device 7>, free: 16613048320 bytes, total, 16945512448 bytes\n"
     ]
    }
   ],
   "source": [
    "from numba import cuda\n",
    "gpus = cuda.gpus.lst\n",
    "for gpu in gpus:\n",
    "    with gpu:\n",
    "        meminfo = cuda.current_context().get_memory_info()\n",
    "        print(\"%s, free: %s bytes, total, %s bytes\" % (gpu, meminfo[0], meminfo[1]))"
   ]
  },
  {
   "cell_type": "code",
   "execution_count": 5,
   "metadata": {},
   "outputs": [
    {
     "data": {
      "text/plain": [
       "[<numba.cuda.cudadrv.devices._DeviceContextManager at 0x7fc1e0062c50>,\n",
       " <numba.cuda.cudadrv.devices._DeviceContextManager at 0x7fc1e0062dd8>,\n",
       " <numba.cuda.cudadrv.devices._DeviceContextManager at 0x7fc1e0005c18>,\n",
       " <numba.cuda.cudadrv.devices._DeviceContextManager at 0x7fc1d0a41da0>,\n",
       " <numba.cuda.cudadrv.devices._DeviceContextManager at 0x7fc1d0a41e48>,\n",
       " <numba.cuda.cudadrv.devices._DeviceContextManager at 0x7fc1d0a41ef0>,\n",
       " <numba.cuda.cudadrv.devices._DeviceContextManager at 0x7fc1d0a41f98>,\n",
       " <numba.cuda.cudadrv.devices._DeviceContextManager at 0x7fc1d0a57080>]"
      ]
     },
     "execution_count": 5,
     "metadata": {},
     "output_type": "execute_result"
    }
   ],
   "source": [
    "gpus"
   ]
  },
  {
   "cell_type": "code",
   "execution_count": 6,
   "metadata": {},
   "outputs": [
    {
     "name": "stdout",
     "output_type": "stream",
     "text": [
      "name = b'Tesla V100-SXM2-16GB'\n",
      "maxThreadsPerBlock = 1024\n",
      "maxBlockDimX = 1024\n",
      "maxBlockDimY = 1024\n",
      "maxBlockDimZ = 64\n",
      "maxGridDimX = 2147483647\n",
      "maxGridDimY = 65535\n",
      "maxGridDimZ = 65535\n",
      "maxSharedMemoryPerBlock = 49152\n",
      "asyncEngineCount = 6\n",
      "canMapHostMemory = 1\n",
      "multiProcessorCount = 80\n",
      "warpSize = 32\n",
      "unifiedAddressing = 1\n",
      "pciBusID = 6\n",
      "pciDeviceID = 0\n"
     ]
    }
   ],
   "source": [
    "gpu = cuda.get_current_device()\n",
    "print(\"name = %s\" % gpu.name)\n",
    "print(\"maxThreadsPerBlock = %s\" % str(gpu.MAX_THREADS_PER_BLOCK))\n",
    "print(\"maxBlockDimX = %s\" % str(gpu.MAX_BLOCK_DIM_X))\n",
    "print(\"maxBlockDimY = %s\" % str(gpu.MAX_BLOCK_DIM_Y))\n",
    "print(\"maxBlockDimZ = %s\" % str(gpu.MAX_BLOCK_DIM_Z))\n",
    "print(\"maxGridDimX = %s\" % str(gpu.MAX_GRID_DIM_X))\n",
    "print(\"maxGridDimY = %s\" % str(gpu.MAX_GRID_DIM_Y))\n",
    "print(\"maxGridDimZ = %s\" % str(gpu.MAX_GRID_DIM_Z))\n",
    "print(\"maxSharedMemoryPerBlock = %s\" % str(gpu.MAX_SHARED_MEMORY_PER_BLOCK))\n",
    "print(\"asyncEngineCount = %s\" % str(gpu.ASYNC_ENGINE_COUNT))\n",
    "print(\"canMapHostMemory = %s\" % str(gpu.CAN_MAP_HOST_MEMORY))\n",
    "print(\"multiProcessorCount = %s\" % str(gpu.MULTIPROCESSOR_COUNT))\n",
    "print(\"warpSize = %s\" % str(gpu.WARP_SIZE))\n",
    "print(\"unifiedAddressing = %s\" % str(gpu.UNIFIED_ADDRESSING))\n",
    "print(\"pciBusID = %s\" % str(gpu.PCI_BUS_ID))\n",
    "print(\"pciDeviceID = %s\" % str(gpu.PCI_DEVICE_ID))"
   ]
  },
  {
   "cell_type": "code",
   "execution_count": null,
   "metadata": {},
   "outputs": [],
   "source": []
  }
 ],
 "metadata": {
  "kernelspec": {
   "display_name": "chemgpu",
   "language": "python",
   "name": "chemgpu"
  },
  "language_info": {
   "codemirror_mode": {
    "name": "ipython",
    "version": 3
   },
   "file_extension": ".py",
   "mimetype": "text/x-python",
   "name": "python",
   "nbconvert_exporter": "python",
   "pygments_lexer": "ipython3",
   "version": "3.6.6"
  }
 },
 "nbformat": 4,
 "nbformat_minor": 4
}
