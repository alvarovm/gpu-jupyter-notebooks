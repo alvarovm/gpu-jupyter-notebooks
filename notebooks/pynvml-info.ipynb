{
 "cells": [
  {
   "cell_type": "markdown",
   "metadata": {},
   "source": [
    "Example using pynvml"
   ]
  },
  {
   "cell_type": "code",
   "execution_count": 1,
   "metadata": {},
   "outputs": [],
   "source": [
    "from pynvml import *"
   ]
  },
  {
   "cell_type": "code",
   "execution_count": 2,
   "metadata": {},
   "outputs": [],
   "source": [
    "nvmlInit()"
   ]
  },
  {
   "cell_type": "code",
   "execution_count": 3,
   "metadata": {},
   "outputs": [
    {
     "name": "stdout",
     "output_type": "stream",
     "text": [
      "b'440.33.01'\n"
     ]
    }
   ],
   "source": [
    "print(nvmlSystemGetDriverVersion())"
   ]
  },
  {
   "cell_type": "code",
   "execution_count": 4,
   "metadata": {},
   "outputs": [
    {
     "name": "stdout",
     "output_type": "stream",
     "text": [
      "Device, 0, : b'Tesla V100-SXM2-16GB' \n",
      "Device, 1, : b'Tesla V100-SXM2-16GB' \n",
      "Device, 2, : b'Tesla V100-SXM2-16GB' \n",
      "Device, 3, : b'Tesla V100-SXM2-16GB' \n",
      "Device, 4, : b'Tesla V100-SXM2-16GB' \n",
      "Device, 5, : b'Tesla V100-SXM2-16GB' \n",
      "Device, 6, : b'Tesla V100-SXM2-16GB' \n",
      "Device, 7, : b'Tesla V100-SXM2-16GB' \n"
     ]
    }
   ],
   "source": [
    "deviceCount = nvmlDeviceGetCount()\n",
    "for i in range(deviceCount):\n",
    "    handle = nvmlDeviceGetHandleByIndex(i)\n",
    "    print (\"Device, {}, : {} \".format(i, nvmlDeviceGetName(handle)))"
   ]
  },
  {
   "cell_type": "markdown",
   "metadata": {},
   "source": [
    "This prints the memory in MB"
   ]
  },
  {
   "cell_type": "code",
   "execution_count": 10,
   "metadata": {},
   "outputs": [
    {
     "name": "stdout",
     "output_type": "stream",
     "text": [
      "Total memory: 16160.5 MB\n",
      "Free memory:16160.4375 MB\n",
      "Used memory:0.0625 MB\n"
     ]
    }
   ],
   "source": [
    "info = nvmlDeviceGetMemoryInfo(handle)\n",
    "print (\"Total memory: {} MB\".format( info.total/1024**2))\n",
    "#Total memory: 5636292608\n",
    "print (\"Free memory:{} MB\".format(info.free/1024**2))\n",
    "#Free memory: 5578420224\n",
    "print (\"Used memory:{} MB\".format( info.used/1024**2))\n",
    "#Used memory: 57872384"
   ]
  },
  {
   "cell_type": "code",
   "execution_count": 11,
   "metadata": {},
   "outputs": [],
   "source": [
    "nvmlShutdown()"
   ]
  },
  {
   "cell_type": "code",
   "execution_count": null,
   "metadata": {},
   "outputs": [],
   "source": []
  }
 ],
 "metadata": {
  "kernelspec": {
   "display_name": "chemgpu",
   "language": "python",
   "name": "chemgpu"
  },
  "language_info": {
   "codemirror_mode": {
    "name": "ipython",
    "version": 3
   },
   "file_extension": ".py",
   "mimetype": "text/x-python",
   "name": "python",
   "nbconvert_exporter": "python",
   "pygments_lexer": "ipython3",
   "version": "3.6.6"
  }
 },
 "nbformat": 4,
 "nbformat_minor": 4
}
